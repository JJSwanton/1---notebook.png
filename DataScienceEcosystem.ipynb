{
 "cells": [
  {
   "cell_type": "markdown",
   "id": "d9a52045-b3f3-47f1-934a-7f43500c6fdb",
   "metadata": {},
   "source": [
    "### Data Science Tools and Ecosystem"
   ]
  },
  {
   "cell_type": "markdown",
   "id": "fb20ae3a-3876-48bd-90ea-bae79ddc4594",
   "metadata": {},
   "source": [
    "In this notebook, Data Science Tools and Ecosystem are summarized"
   ]
  },
  {
   "cell_type": "markdown",
   "id": "f41e88f9-7a6a-4ad1-b824-3e282e4494eb",
   "metadata": {},
   "source": [
    "Some of the popular languages that Data Scientists use are:\n",
    "1: R\n",
    "2: Python\n",
    "3: SQL"
   ]
  },
  {
   "cell_type": "markdown",
   "id": "f5dd376a-1d0d-4ff2-9d45-d7ddb415828c",
   "metadata": {},
   "source": [
    "Some of the commonly used libraries used by Data Scientists include: \n",
    "1: NumPy\n",
    "2: Pandas\n",
    "3: Matplotlib"
   ]
  },
  {
   "cell_type": "markdown",
   "id": "bbb9557b-9735-4351-9664-f3faeea886b0",
   "metadata": {},
   "source": [
    "| Data Science Tools |\n",
    "| ------------------ |\n",
    "| Tensor Flow    |\n",
    "| Apache Hadoop  |\n",
    "| R Studio       |\n"
   ]
  },
  {
   "cell_type": "markdown",
   "id": "b472d44a-58ef-495c-bda1-adc52f4e2728",
   "metadata": {},
   "source": [
    "### Below are a few examples of evaluating arithmetic expressions in Python."
   ]
  },
  {
   "cell_type": "code",
   "execution_count": 2,
   "id": "f58e0713-52cc-4b5c-bcef-95aeb499425d",
   "metadata": {
    "jp-MarkdownHeadingCollapsed": true
   },
   "outputs": [
    {
     "data": {
      "text/plain": [
       "17"
      ]
     },
     "execution_count": 2,
     "metadata": {},
     "output_type": "execute_result"
    }
   ],
   "source": [
    "# This a simple arithemntic expression to mutiply then add integers.\n",
    "(3*4)+5"
   ]
  },
  {
   "cell_type": "code",
   "execution_count": 3,
   "id": "f9963c07-68ca-4427-a99b-5f4bd8d7258f",
   "metadata": {},
   "outputs": [
    {
     "data": {
      "text/plain": [
       "3.3333333333333335"
      ]
     },
     "execution_count": 3,
     "metadata": {},
     "output_type": "execute_result"
    }
   ],
   "source": [
    "# This will convert 200 minutes to hours by diving by 60\n",
    "(200 / 60)"
   ]
  },
  {
   "cell_type": "markdown",
   "id": "101d084a-eb68-4aa8-8c7f-464979ce5ca3",
   "metadata": {},
   "source": [
    "### Author\n",
    "Jeff Swanton"
   ]
  }
 ],
 "metadata": {
  "kernelspec": {
   "display_name": "Python 3 (ipykernel)",
   "language": "python",
   "name": "python3"
  },
  "language_info": {
   "codemirror_mode": {
    "name": "ipython",
    "version": 3
   },
   "file_extension": ".py",
   "mimetype": "text/x-python",
   "name": "python",
   "nbconvert_exporter": "python",
   "pygments_lexer": "ipython3",
   "version": "3.12.8"
  }
 },
 "nbformat": 4,
 "nbformat_minor": 5
}
